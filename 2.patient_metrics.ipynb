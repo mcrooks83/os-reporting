{
 "cells": [
  {
   "cell_type": "markdown",
   "id": "b87be62f-69f8-40ae-bada-296c0c4fcd9f",
   "metadata": {},
   "source": [
    "### Notebook to compute metrics\n",
    "\n",
    "for each patient compute the following\n",
    "\n",
    "Per 5 second window per leg\n",
    "\n",
    "1. loading per 5 seconds - mag, x, y, z axis []\n",
    "2. average load per leg (mag, x, y, z)\n",
    "3. distritubtion (50-50 technique)\n",
    "4. percentage contribution per axis to the totel -> total/axis * 100 \n",
    "\n",
    "Total loading\n",
    "\n",
    "4. total loading for activity (walk) (mag, x, y, z)\n",
    "5. average per axis\n",
    "6. distribution\n",
    "7. percentage contribution\n",
    "\n",
    "\n",
    "Nice to have\n",
    "\n",
    "1. Frequency response (mag, x, y, z)\n",
    "2. frequency difference between left and right\n",
    "3. frequency quadrants (high / low )\n",
    "\n",
    "\n"
   ]
  },
  {
   "cell_type": "code",
   "execution_count": null,
   "id": "78956987-3a7b-4ae9-8f89-239c637e4d8d",
   "metadata": {},
   "outputs": [],
   "source": []
  }
 ],
 "metadata": {
  "kernelspec": {
   "display_name": "Python 3 (ipykernel)",
   "language": "python",
   "name": "python3"
  },
  "language_info": {
   "codemirror_mode": {
    "name": "ipython",
    "version": 3
   },
   "file_extension": ".py",
   "mimetype": "text/x-python",
   "name": "python",
   "nbconvert_exporter": "python",
   "pygments_lexer": "ipython3",
   "version": "3.11.8"
  }
 },
 "nbformat": 4,
 "nbformat_minor": 5
}
