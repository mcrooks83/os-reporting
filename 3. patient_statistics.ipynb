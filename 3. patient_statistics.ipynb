{
 "cells": [
  {
   "cell_type": "markdown",
   "id": "2e3979a9-4081-4e3f-b57f-fe09bc0d28a9",
   "metadata": {},
   "source": [
    "### Notebook to compute statistics\n",
    "\n",
    "\n",
    "1. consolidate group data into single dataset\n",
    "   average of the group => load per leg in each axis, distribution\n",
    "   mean of group\n",
    "   std group\n",
    "   range group (max, min)\n",
    "\n",
    "2. table of each group - mean, std, range etc\n",
    "3. statistical test for difference in group\n",
    "4. progress graph -> group to group average\n",
    "    \n",
    "\n"
   ]
  }
 ],
 "metadata": {
  "kernelspec": {
   "display_name": "Python 3 (ipykernel)",
   "language": "python",
   "name": "python3"
  },
  "language_info": {
   "codemirror_mode": {
    "name": "ipython",
    "version": 3
   },
   "file_extension": ".py",
   "mimetype": "text/x-python",
   "name": "python",
   "nbconvert_exporter": "python",
   "pygments_lexer": "ipython3",
   "version": "3.11.8"
  }
 },
 "nbformat": 4,
 "nbformat_minor": 5
}
